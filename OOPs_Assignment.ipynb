{
  "nbformat": 4,
  "nbformat_minor": 0,
  "metadata": {
    "colab": {
      "provenance": []
    },
    "kernelspec": {
      "name": "python3",
      "display_name": "Python 3"
    },
    "language_info": {
      "name": "python"
    }
  },
  "cells": [
    {
      "cell_type": "markdown",
      "source": [
        "1.  What is Object-Oriented Programming (OOP)?\n",
        "\n",
        "Ans. OOP is a programming paradigm based on the concept of object, which can contain attrivutes and methods. It promotes modularity, reusability and abstraction."
      ],
      "metadata": {
        "id": "qknJUqh61O5k"
      }
    },
    {
      "cell_type": "markdown",
      "source": [
        "2.  What is a class in OOP?\n",
        "\n",
        "Ans. A class is a blueprint for creating objects. It defines the structure and behaviour that the objects created from it will have."
      ],
      "metadata": {
        "id": "6ksv_DeU2TWA"
      }
    },
    {
      "cell_type": "markdown",
      "source": [
        "3. What is an object in OOP?\n",
        "\n",
        "Ans. An object is an insatnce of a class. It represents a specific entity with the properties and behaviours defined by its class."
      ],
      "metadata": {
        "id": "sey2s4pb2yHO"
      }
    },
    {
      "cell_type": "markdown",
      "source": [
        "4. What is the difference between abstraction and encapsulation?\n",
        "\n",
        "Ans. Abstraction hides complex implementatons details and shows only essentials features.\n",
        "\n",
        "Encapsulation restricts direct access to some of an objects's componenets, usually by using private or protected attributes"
      ],
      "metadata": {
        "id": "cF5bvGHv246m"
      }
    },
    {
      "cell_type": "markdown",
      "source": [
        "5.  What are dunder methods in Python?\n",
        "\n",
        "Ans. Dunder method is a short for double underscore are special methods with names like init, str, repr, etc. They enables custom behaviour for built-in operations."
      ],
      "metadata": {
        "id": "3gn8p2QX3FIP"
      }
    },
    {
      "cell_type": "markdown",
      "source": [
        "6.  Explain the concept of inheritance in OOP.\n",
        "\n",
        "Ans. Inheritance allows the child method to inherit attributes and methods from another parent class. This promotes code reusalility and logical hierarchy. class Animal: def speak(self): print(\"Animal speaks\")\n",
        "\n",
        "  class Dog(Animal):\n",
        "\n",
        "  def speak(self):\n",
        "  \n",
        "      print(\"Dog barks\")"
      ],
      "metadata": {
        "id": "EuTaLC5R3N9O"
      }
    },
    {
      "cell_type": "markdown",
      "source": [
        "7. What is polymorphism in OOP?\n",
        "\n",
        "Ans. Polymorphism means many form that means it allows different classes to define methods with the same name but different behaviour. class Cat: def speak(self): print(\"Meow\")\n",
        "\n",
        "      class Dog:\n",
        "          def speak(self):\n",
        "              print(\"Bark\")\n",
        "\n",
        "      def animal_sound(animal):\n",
        "          animal.speak()"
      ],
      "metadata": {
        "id": "74GRKz093gN9"
      }
    },
    {
      "cell_type": "markdown",
      "source": [
        "8. How is encapsulation achieved in Python?\n",
        "\n",
        "Ans. Encapsulation hides internal state and requires access through methods: Use _protected or __private naming. Use @property for controlled access.\n",
        "\n",
        "      class Person:\n",
        "        def __init__(self, age):\n",
        "            self.__age = age\n",
        "\n",
        "        @property\n",
        "        def age(self):\n",
        "            return self.__age"
      ],
      "metadata": {
        "id": "8FhUqjLa3wNt"
      }
    },
    {
      "cell_type": "markdown",
      "source": [
        "9. What is a constructor in Python?\n",
        "\n",
        "Ans. In Pyhton, a constructor is a special methods used to initialize a newly created object. The constructor method is a name init, and it is automatically called whena new instance of a class is created. class Person: def init(self, name, age): self.name = name self.age = age"
      ],
      "metadata": {
        "id": "Ad6pgw6-4IEs"
      }
    },
    {
      "cell_type": "markdown",
      "source": [
        "10. What are class and static methods in Python?\n",
        "\n",
        "Ans.\n",
        "\n",
        "*   In Pyhton, class methods and static methods are two types of methods that are not bound to instances of a class but to the class itself. There are degined using decorators, @classmethod and @staticmethod\n",
        "\n",
        "*   Class methods are the methods that receives the class as its first argument instead of the instance(self). class Employee: company = \"Kantar\"\n",
        "\n",
        "      def __init__(self, name):\n",
        "          self.name = name\n",
        "\n",
        "      @classmethod\n",
        "      def change_company(cls, new_name):\n",
        "          cls.company = new_name\n",
        "*   Static methods are the methods in Pythin which does not receive either self or cls. It behaves like a regular fucntion but belongs to the class's namespace. class MathUtils: @staticmethod def add(x, y): return x + y\n",
        "\n"
      ],
      "metadata": {
        "id": "JX29BfjO4VnU"
      }
    },
    {
      "cell_type": "markdown",
      "source": [
        "11.  What is method overloading in Python?\n",
        "\n",
        "Ans.\n",
        "\n",
        "*   Method overloading refers to the ability to define multiple methods with the same name but different parameters(number or type). Python does not support tradiitonal method overloading. However to achieve this Pyhton uses:\n",
        "   *   Default Argument: You can simulate overloading by using default values for parameters.\n",
        "\n",
        "  class Greet:\n",
        "  def hello(self, name=None):\n",
        "  if name:\n",
        "      print(f\"Hello, {name}!\")\n",
        "  else:\n",
        "      print(\"Hello!\")\n",
        "\n",
        "        g = Greet()\n",
        "        g.hello()         # Output: Hello!\n",
        "        g.hello(\"Ajay\")  # Output: Hello, Ajay!\n",
        "\n",
        "\n",
        " *   Variable-Length Arguments (*args, **kwargs):This allows a method to accept any number of arguments.\n",
        "\n",
        "          class Calculator:\n",
        "      def add(self, *args):\n",
        "          return sum(args)\n",
        "\n",
        "      c = Calculator()\n",
        "  print(c.add(2, 3))         # Output: 5\n",
        "  print(c.add(1, 2, 3, 4))   # Output: 10\n",
        "\n",
        "\n",
        "\n",
        "\n",
        "\n",
        "\n"
      ],
      "metadata": {
        "id": "T05icWiB4447"
      }
    },
    {
      "cell_type": "markdown",
      "source": [
        "12. What is method overriding in OOP?\n",
        "\n",
        "Ans.\n",
        "\n",
        "*   Method overriding is a feature in Object-Oriented Programming (OOP) that allows a subclass to provide a specific implementation of a method that is already defined in its parent class.\n",
        "\n",
        "    *   The method in the child class must have the same name, parameters, and return type as in the parent class.\n",
        "    *   It enables runtime polymorphism.\n",
        "\n",
        "    *   The overridden method in the child class replaces the parent class’s version when called on a child object.\n",
        "\n"
      ],
      "metadata": {
        "id": "rXUgvunjHkRQ"
      }
    },
    {
      "cell_type": "markdown",
      "source": [
        "13. What is a property decorator in Python?\n",
        "\n",
        "Ans. The property decorator in Python is used to define getter methods that can be accessed like attributes, without explicitly calling them as functions. It’s part of Python’s descriptor protocol, which allows you to manage how attributes are accessed and modified."
      ],
      "metadata": {
        "id": "Uq0s4oioIBiW"
      }
    },
    {
      "cell_type": "markdown",
      "source": [
        "14. Why is polymorphism important in OOP?\n",
        "\n",
        "*   Polymorphism is a core concept in Object-Oriented Programming (OOP) that allows objects of different classes to be treated as objects of a common superclass. It enables a single interface to represent different underlying forms (data types or behaviors).\n",
        "\n",
        "*   Properties of polymorphism:\n",
        "\n",
        "    *   Code Reusability\n",
        "    *   We can add new classes without changing existing code, as long as they follow the expected interface.\n",
        "    *   Polymorphism allows us to manage complexity by abstracting behavior. You can update or extend functionality without affecting the rest of the system.\n",
        "    *   At runtime, the correct method is called based on the object's actual class, not the reference type.\n",
        "\n"
      ],
      "metadata": {
        "id": "g5Z0UpsCI1LH"
      }
    },
    {
      "cell_type": "markdown",
      "source": [
        "15. What is an abstract class in Python?\n",
        "\n",
        "Ans. An abstract class in Python is a class that cannot be instantiated directly and is meant to be subclassed. It can contain abstract methods—methods that are declared but contain no implementation. Subclasses must implement these methods."
      ],
      "metadata": {
        "id": "kHPVNrflJYm2"
      }
    },
    {
      "cell_type": "markdown",
      "source": [
        "16. What are the advantages of OOP?\n",
        "\n",
        "Ans.\n",
        "\n",
        "*   Object-Oriented Programming offers several key benefits that make it a\n",
        "popular paradigm for building scalable, maintainable, and reusable software systems:\n",
        "    *   Code is organized into classes and objects, making it easier to manage and understand. Each class encapsulates its own data and behavior.\n",
        "    *   Classes can be reused across different programs.Inheritance allows new classes to reuse existing code, reducing duplication.\n",
        "    *   OOP makes it easier to scale applications by adding new classes and features without affecting existing code.\n",
        "    *   Encapsulation helps isolate changes to specific parts of the code. Bugs are easier to locate and fix due to the modular structure.\n",
        "    *   Complex systems can be simplified by exposing only essential features and hiding implementation details.Promotes cleaner and more intuitive interfaces.\n",
        "    *   Protects internal object state by restricting direct access to data.Encourages use of getter/setter methods for controlled access. -Enables objects of different classes to be treated through a common interface. Supports flexible and dynamic method invocation.\n",
        "    *   Facilitates hierarchical classification and code reuse. Allows new functionality to be built on top of existing code.\n",
        "\n",
        "\n",
        "\n",
        "\n",
        "\n",
        "\n",
        "\n",
        "\n",
        "\n"
      ],
      "metadata": {
        "id": "fQzz2d_CJhPt"
      }
    },
    {
      "cell_type": "markdown",
      "source": [
        "17. What is the difference between a class variable and an instance variable?\n",
        "\n",
        "Ans.\n",
        "\n",
        "*   Class Variable:\n",
        "    *   Shared across all instances of a class. Defined inside the class, but outside any instance methods.\n",
        "    *   Used for common properties that should be the same for every object.\n",
        "\n",
        "*   Instance Variable:\n",
        "    *   Unique to each instance of the class. Defined inside the constructor (init) or other instance methods using self.\n",
        "    *   Used for individual object properties.\n",
        "\n",
        "\n",
        "\n",
        "\n",
        "\n",
        "\n",
        "\n",
        "\n",
        "\n"
      ],
      "metadata": {
        "id": "nG11FdOPKLsl"
      }
    },
    {
      "cell_type": "markdown",
      "source": [
        "18. What is multiple inheritance in Python?\n",
        "\n",
        "Ans. Multiple inheritance is a feature in Python where a class can inherit from more than one parent class. This allows a child class to access attributes and methods from all its parent classes. class Father: def skills(self): print(\"Gardening, Carpentry\")\n",
        "\n",
        "   class Mother:\n",
        "       def skills(self):\n",
        "           print(\"Cooking, Painting\")\n",
        "\n",
        "   class Child(Father, Mother):\n",
        "       def skills(self):\n",
        "           super().skills()\n",
        "           print(\"Python Programming\")\n",
        "\n",
        "   c = Child()\n",
        "   c.skills()\n",
        "   \n",
        "    Output:\n",
        "\n",
        "    Gardening, Carpentry\n",
        "\n",
        "    Python Programming"
      ],
      "metadata": {
        "id": "S-ppfeUqKsxp"
      }
    },
    {
      "cell_type": "markdown",
      "source": [
        "19. Explain the purpose of ‘’str’ and ‘repr’ ‘ methods in Python.\n",
        "\n",
        "Ans.\n",
        "\n",
        "\n",
        "*   In Python, str and repr are special (dunder) methods used to define how objects are represented as strings. They serve different purposes and are used in different contexts.\n",
        "\n",
        "    *   str → User-Friendly Representation:\n",
        "\n",
        "    *   Called by the str() function and print() statements.\n",
        "    *   Intended to return a readable, informal string representation of the object.\n",
        "\n",
        "    *   Useful for end users. class Book: def init(self, title): self.title = title\n",
        "\n",
        "        def __str__(self):\n",
        "            return f\"Book: {self.title}\"\n",
        "\n",
        "    b = Book(\"Python Basics\")\n",
        "    print(b)  # Output: Book: Python Basics\n",
        "    \n",
        "-repr → Developer-Friendly Representation:\n",
        "\n",
        "\n",
        "    *   Called by the repr() function and in the interactive interpreter.\n",
        "\n",
        "    *   Intended to return a precise, unambiguous string that could be used to recreate the object.\n",
        "    *   Useful for debugging and development. class Book: def init(self, title): self.title = title\n",
        "\n",
        "      def __repr__(self):\n",
        "          return f\"Book('{self.title}')\"\n",
        "\n",
        "  b = Book(\"Python Basics\")\n",
        "  print(repr(b))  # Output: Book('Python Basics')\n",
        "\n",
        "\n",
        "\n",
        "\n",
        "\n"
      ],
      "metadata": {
        "id": "xoTw9IkQLLRx"
      }
    },
    {
      "cell_type": "markdown",
      "source": [
        "20. What is the significance of the ‘super()’ function in Python?\n",
        "\n",
        "Ans. The super() function in Python is a built-in function that is used to give access to methods from a parent or sibling class. It is most commonly used in inheritance scenarios, especially when working with multiple inheritance or method overriding. class Animal: def speak(self): print(\"Animal speaks\")\n",
        "\n",
        "  class Dog(Animal):\n",
        "      def speak(self):\n",
        "          super().speak()  # Calls Animal's speak method\n",
        "          print(\"Dog barks\")\n",
        "\n",
        "  dog = Dog()\n",
        "  dog.speak()"
      ],
      "metadata": {
        "id": "yl0kO3BiMX8_"
      }
    },
    {
      "cell_type": "markdown",
      "source": [
        "21. What is the significance of the del method in Python?\n",
        "\n",
        "Ans.\n",
        "\n",
        "*   The del method in Python is a destructor method. It is called when an object is about to be destroyed, which typically happens when there are no more references to the object.\n",
        "\n",
        "    *   Resource Cleanup:\n",
        "        *   It allows you to define cleanup behavior, such as closing files, releasing network connections, or freeing up other external resources\n",
        "\n",
        "    *   Finalization Logic:\n",
        "        *   You can use it to log or perform final actions before an object is removed from memory.\n",
        "\n",
        "    *   Automatic Invocation:\n",
        "\n",
        "        *   Python automatically calls del when the object’s reference count drops to zero (i.e., when it's no longer in use).\n",
        "\n",
        "\n",
        "\n",
        "\n",
        "\n",
        "\n"
      ],
      "metadata": {
        "id": "TkqOFOjZK2EJ"
      }
    },
    {
      "cell_type": "markdown",
      "source": [
        "22. What is the difference between @staticmethod and @classmethod in Python?\n",
        "\n",
        "Ans.\n",
        "*   In Python, both @staticmethod and @classmethod are decorators used to define methods inside a class that are not instance methods, but they serve different purposes and behave differently.\n",
        "*   @staticmethod:\n",
        "    *   LDoes not take self or cls as the first argument.\n",
        "    *   Behaves like a regular function but belongs to the class's namespace.\n",
        "    *   Cannot access or modify class or instance state.\n",
        "    *   Used when the method logic is related to the class but doesn't need to access class or instance data. class MathUtils: @staticmethod def add(x, y): return x + y\n",
        "\n",
        "      print(MathUtils.add(3, 5))  # Output: 8\n",
        "\n",
        "\n",
        "*   @classmethod\n",
        "    *   Takes cls as the first argument, referring to the class itself.\n",
        "    *   Can access and modify class state that applies across all instances.\n",
        "    *   Often used for factory methods that create instances in different ways. class Person: species = \"Human\"\n",
        "\n",
        "    def __init__(self, name):\n",
        "        self.name = name\n",
        "\n",
        "    @classmethod\n",
        "    def from_string(cls, name_str):\n",
        "        return cls(name_str)\n",
        "\n",
        "p = Person.from_string(\"Alice\")\n",
        "\n",
        "print(p.name)  # Output: Alice\n",
        "\n",
        "\n",
        "\n",
        "\n",
        "\n",
        "\n",
        "\n",
        "\n"
      ],
      "metadata": {
        "id": "EjvBe2bANhEN"
      }
    },
    {
      "cell_type": "markdown",
      "source": [
        "23. How does polymorphism work in Python with inheritance?\n",
        "\n",
        "Ans.\n",
        "\n",
        "*   Polymorphism in Python, especially with inheritance, allows objects of different classes to be treated as objects of a common superclass. This enables method overriding and dynamic method resolution, which are key to writing flexible and extensible code.\n",
        "*   How Polymorphism Works with Inheritance Method Overriding:\n",
        "    *   A subclass can provide a specific implementation of a method that is already defined in its superclass.\n",
        "    *   When we call the method on an instance of the subclass, Python uses the subclass’s version.\n",
        "\n",
        "*   Dynamic Dispatch:\n",
        "    *   Python determines which method to call at runtime based on the object’s actual type, not the reference type.\n",
        "\n",
        "\n",
        "*   Common Interface:\n",
        "    *   You can write code that works on the superclass type, but it will behave correctly for any subclass. class Animal: def speak(self): print(\"Animal speaks\")\n",
        "\n",
        "class Dog(Animal):\n",
        "\n",
        "    def speak(self):\n",
        "\n",
        "        print(\"Dog barks\")\n",
        "\n",
        "class Cat(Animal):\n",
        "\n",
        "    def speak(self):\n",
        "\n",
        "        print(\"Cat meows\")\n",
        "\n",
        " Polymorphic behavior\n",
        "\n",
        "def make_animal_speak(animal):\n",
        "\n",
        "    animal.speak()\n",
        "\n",
        "animals = [Dog(), Cat(), Animal()]\n",
        "\n",
        "for a in animals:\n",
        "\n",
        "    make_animal_speak(a)\n",
        "\n",
        "\n",
        "\n",
        "\n"
      ],
      "metadata": {
        "id": "S_PQ-PHZOuVq"
      }
    },
    {
      "cell_type": "markdown",
      "source": [
        "24. What is method chaining in Python OOP?\n",
        "\n",
        "Ans.\n",
        "\n",
        "*   Method chaining in Python object-oriented programming (OOP) is a technique where multiple methods are called on the same object in a single line, one after another. This is achieved by having each method return the object itself (self), allowing the next method to be called on the same instance.\n",
        "\n",
        "    *   Improves readability: Code becomes more concise and expressive.\n",
        "    *   Encourages fluent interfaces: Makes APIs easier to use and understand.\n",
        "    *   Reduces boilerplate: Avoids repetitive variable assignments.\n",
        "\n"
      ],
      "metadata": {
        "id": "99Z99Z0zPvzm"
      }
    },
    {
      "cell_type": "markdown",
      "source": [
        "25. What is the purpose of the call method in Python?\n",
        "\n",
        "Ans.\n",
        "\n",
        "*   The call method in Python is a special (magic) method that allows an instance of a class to be called as if it were a function. This means you can use parentheses () after an object to invoke its call method.\n",
        "    *   Function-like Behavior:\n",
        "        *   Makes objects behave like functions.\n",
        "        *   Useful for creating callable objects, especially in scenarios like decorators, function wrappers, or custom logic encapsulation.\n",
        "    *   Encapsulation:\n",
        "        *   Allows to encapsulate behavior inside an object while still using it like a function.\n",
        "\n",
        "    *   Stateful Functions:\n",
        "        *   Enables maintaining internal state across calls, unlike regular functions.\n",
        "\n"
      ],
      "metadata": {
        "id": "dw8INA34QL5l"
      }
    },
    {
      "cell_type": "code",
      "source": [
        "\n",
        "#1) Create a parent class Animal with a method speak() that prints a generic message. Create a child class Dog that overrides the speak() method to print \"Bark!\".\n",
        "# Parent class\n",
        "\n",
        "class Animal:\n",
        "    def speak(self):\n",
        "        print(\"The animal makes a sound.\")\n",
        "\n",
        "# Child class\n",
        "class Dog(Animal):\n",
        "    def speak(self):\n",
        "        print(\"Bark!\")\n",
        "\n",
        "# Example usage\n",
        "generic_animal = Animal()\n",
        "generic_animal.speak()\n",
        "\n",
        "dog = Dog()\n",
        "dog.speak()"
      ],
      "metadata": {
        "colab": {
          "base_uri": "https://localhost:8080/"
        },
        "id": "7oJFKTafQ2L8",
        "outputId": "b089f62b-b3a9-4253-9f04-1848246bcc17"
      },
      "execution_count": 1,
      "outputs": [
        {
          "output_type": "stream",
          "name": "stdout",
          "text": [
            "The animal makes a sound.\n",
            "Bark!\n"
          ]
        }
      ]
    },
    {
      "cell_type": "code",
      "source": [
        "#2) Write a program to create an abstract class Shape with a method area(). Derive classes Circle and Rectangle from it and implement the area() method in both.\n",
        "\n",
        "from abc import ABC, abstractmethod\n",
        "import math\n",
        "\n",
        "# Abstract class\n",
        "class Shape(ABC):\n",
        "    @abstractmethod\n",
        "    def area(self):\n",
        "        pass\n",
        "\n",
        "# Derived class: Circle\n",
        "class Circle(Shape):\n",
        "    def __init__(self, radius):\n",
        "        self.radius = radius\n",
        "\n",
        "    def area(self):\n",
        "        return math.pi * self.radius ** 2\n",
        "\n",
        "# Derived class: Rectangle\n",
        "class Rectangle(Shape):\n",
        "    def __init__(self, width, height):\n",
        "        self.width = width\n",
        "        self.height = height\n",
        "\n",
        "    def area(self):\n",
        "        return self.width * self.height\n",
        "\n",
        "# Example usage\n",
        "circle = Circle(5)\n",
        "print(f\"Area of Circle: {circle.area():.2f}\")\n",
        "\n",
        "rectangle = Rectangle(4, 6)\n",
        "print(f\"Area of Rectangle: {rectangle.area():.2f}\")\n"
      ],
      "metadata": {
        "colab": {
          "base_uri": "https://localhost:8080/"
        },
        "id": "HOSeDqWFQ3HT",
        "outputId": "43969e0e-7427-4292-9f75-9285d919e71b"
      },
      "execution_count": 2,
      "outputs": [
        {
          "output_type": "stream",
          "name": "stdout",
          "text": [
            "Area of Circle: 78.54\n",
            "Area of Rectangle: 24.00\n"
          ]
        }
      ]
    },
    {
      "cell_type": "code",
      "source": [
        "#3). Implement a multi-level inheritance scenario where a class Vehicle has an attribute type. Derive a class Car and further derive a class ElectricCar that adds a battery attribute.\n",
        "# Base class\n",
        "\n",
        "class Vehicle:\n",
        "    def __init__(self, vehicle_type):\n",
        "        self.vehicle_type = vehicle_type\n",
        "\n",
        "# Derived class\n",
        "class Car(Vehicle):\n",
        "    def __init__(self, vehicle_type, brand):\n",
        "        super().__init__(vehicle_type)\n",
        "        self.brand = brand\n",
        "\n",
        "# Further derived class\n",
        "class ElectricCar(Car):\n",
        "    def __init__(self, vehicle_type, brand, battery):\n",
        "        super().__init__(vehicle_type, brand)\n",
        "        self.battery = battery\n",
        "\n",
        "# Example usage\n",
        "ecar = ElectricCar(\"Four Wheeler\", \"Tesla\", \"75 kWh\")\n",
        "print(f\"Type: {ecar.vehicle_type}, Brand: {ecar.brand}, Battery: {ecar.battery}\")\n",
        "\n",
        ""
      ],
      "metadata": {
        "colab": {
          "base_uri": "https://localhost:8080/"
        },
        "id": "8HBMs-GwQ--H",
        "outputId": "57de08a9-115f-43ea-a9da-a01f1f85db9c"
      },
      "execution_count": 3,
      "outputs": [
        {
          "output_type": "stream",
          "name": "stdout",
          "text": [
            "Type: Four Wheeler, Brand: Tesla, Battery: 75 kWh\n"
          ]
        }
      ]
    },
    {
      "cell_type": "code",
      "source": [
        "#4)Demonstrate polymorphism by creating a base class Bird with a method fly(). Create two derived classes Sparrow and Penguin that override the fly() method\n",
        "# Base class\n",
        "\n",
        "class Bird:\n",
        "    def fly(self):\n",
        "        print(\"Bird is flying\")\n",
        "\n",
        "# Derived class\n",
        "class Sparrow(Bird):\n",
        "    def fly(self):\n",
        "        print(\"Sparrow flies high in the sky\")\n",
        "\n",
        "# Derived class\n",
        "class Penguin(Bird):\n",
        "    def fly(self):\n",
        "        print(\"Penguins can't fly, they swim!\")\n",
        "\n",
        "# Polymorphism in action\n",
        "def bird_flight(bird):\n",
        "    bird.fly()\n",
        "\n",
        "# Example usage\n",
        "bird_flight(Sparrow())\n",
        "bird_flight(Penguin())\n",
        "\n",
        ""
      ],
      "metadata": {
        "colab": {
          "base_uri": "https://localhost:8080/"
        },
        "id": "NRJouZeURCVD",
        "outputId": "267da1c2-50f4-4254-8e7d-de0dc355fd3f"
      },
      "execution_count": 4,
      "outputs": [
        {
          "output_type": "stream",
          "name": "stdout",
          "text": [
            "Sparrow flies high in the sky\n",
            "Penguins can't fly, they swim!\n"
          ]
        }
      ]
    },
    {
      "cell_type": "code",
      "source": [
        "#5)Write a program to demonstrate encapsulation by creating a class BankAccount with private attributes balance and methods to deposit, withdraw, and check balance.\n",
        "\n",
        "class BankAccount:\n",
        "    def __init__(self, initial_balance=0):\n",
        "        self.__balance = initial_balance  # Private attribute\n",
        "\n",
        "    def deposit(self, amount):\n",
        "        if amount > 0:\n",
        "            self.__balance += amount\n",
        "            print(f\"Deposited: {amount}\")\n",
        "        else:\n",
        "            print(\"Invalid deposit amount\")\n",
        "\n",
        "    def withdraw(self, amount):\n",
        "        if 0 < amount <= self.__balance:\n",
        "            self.__balance -= amount\n",
        "            print(f\"Withdrawn: {amount}\")\n",
        "        else:\n",
        "            print(\"Insufficient balance or invalid amount\")\n",
        "\n",
        "    def check_balance(self):\n",
        "        print(f\"Current Balance: {self.__balance}\")\n",
        "\n",
        "# Example usage\n",
        "account = BankAccount(1000)\n",
        "account.deposit(500)\n",
        "account.withdraw(200)\n",
        "account.check_balance()\n"
      ],
      "metadata": {
        "colab": {
          "base_uri": "https://localhost:8080/"
        },
        "id": "CbWDKWwEREyh",
        "outputId": "a0c6226c-eb06-41f0-d8ff-32d4fa2171b4"
      },
      "execution_count": 5,
      "outputs": [
        {
          "output_type": "stream",
          "name": "stdout",
          "text": [
            "Deposited: 500\n",
            "Withdrawn: 200\n",
            "Current Balance: 1300\n"
          ]
        }
      ]
    },
    {
      "cell_type": "code",
      "source": [
        "#6)Demonstrate runtime polymorphism using a method play() in a base class Instrument. Derive classes Guitar and Piano that implement their own version of play().\n",
        "# Base class\n",
        "\n",
        "class Instrument:\n",
        "    def play(self):\n",
        "        print(\"Playing an instrument\")\n",
        "\n",
        "# Derived class\n",
        "class Guitar(Instrument):\n",
        "    def play(self):\n",
        "        print(\"Strumming the guitar\")\n",
        "\n",
        "# Derived class\n",
        "class Piano(Instrument):\n",
        "    def play(self):\n",
        "        print(\"Playing the piano\")\n",
        "\n",
        "# Runtime polymorphism\n",
        "def perform(instrument: Instrument):\n",
        "    instrument.play()\n",
        "\n",
        "# Example usage\n",
        "perform(Guitar())\n",
        "perform(Piano())\n",
        "\n",
        ""
      ],
      "metadata": {
        "colab": {
          "base_uri": "https://localhost:8080/"
        },
        "id": "AE81CGdrRHxa",
        "outputId": "fdbd95ec-2e97-44f5-eb90-3fd64f894d88"
      },
      "execution_count": 6,
      "outputs": [
        {
          "output_type": "stream",
          "name": "stdout",
          "text": [
            "Strumming the guitar\n",
            "Playing the piano\n"
          ]
        }
      ]
    },
    {
      "cell_type": "code",
      "source": [
        "#7) Create a class MathOperations with a class method add_numbers() to add two numbers and a static method subtract_numbers() to subtract two numbers.\n",
        "\n",
        "class MathOperations:\n",
        "    @classmethod\n",
        "    def add_numbers(cls, a, b):\n",
        "        return a + b\n",
        "\n",
        "    @staticmethod\n",
        "    def subtract_numbers(a, b):\n",
        "        return a - b\n",
        "\n",
        "# Example usage\n",
        "print(\"Addition:\", MathOperations.add_numbers(10, 5))\n",
        "print(\"Subtraction:\", MathOperations.subtract_numbers(10, 5))\n",
        "\n",
        ""
      ],
      "metadata": {
        "colab": {
          "base_uri": "https://localhost:8080/"
        },
        "id": "v2RWBgCbRjMk",
        "outputId": "603080ce-194b-4a41-f2a7-eed68382d5dd"
      },
      "execution_count": 7,
      "outputs": [
        {
          "output_type": "stream",
          "name": "stdout",
          "text": [
            "Addition: 15\n",
            "Subtraction: 5\n"
          ]
        }
      ]
    },
    {
      "cell_type": "code",
      "source": [
        "#8) Implement a class Person with a class method to count the total number of persons created.\n",
        "\n",
        "class Person:\n",
        "    count = 0  # Class variable to track number of persons\n",
        "\n",
        "    def __init__(self, name):\n",
        "        self.name = name\n",
        "        Person.count += 1\n",
        "\n",
        "    @classmethod\n",
        "    def total_persons(cls):\n",
        "        return cls.count\n",
        "\n",
        "# Example usage\n",
        "p1 = Person(\"Bheem\")\n",
        "p2 = Person(\"Sonu\")\n",
        "p3 = Person(\"Mantu\")\n",
        "\n",
        "print(\"Total persons created:\", Person.total_persons())\n",
        "\n",
        ""
      ],
      "metadata": {
        "colab": {
          "base_uri": "https://localhost:8080/"
        },
        "id": "cYA5PWR0Rl7c",
        "outputId": "047846e8-67d5-45ba-c68a-ab5b15ca6ff1"
      },
      "execution_count": 8,
      "outputs": [
        {
          "output_type": "stream",
          "name": "stdout",
          "text": [
            "Total persons created: 3\n"
          ]
        }
      ]
    },
    {
      "cell_type": "code",
      "source": [
        "#9) Write a class Fraction with attributes numerator and denominator. Override the str method to display the fraction as \"numerator/denominator\".\n",
        "\n",
        "class Fraction:\n",
        "    def __init__(self, numerator, denominator):\n",
        "        self.numerator = numerator\n",
        "        self.denominator = denominator\n",
        "\n",
        "    def __str__(self):\n",
        "        return f\"{self.numerator}/{self.denominator}\"\n",
        "\n",
        "# Example usage\n",
        "f = Fraction(3, 4)\n",
        "print(f)\n"
      ],
      "metadata": {
        "colab": {
          "base_uri": "https://localhost:8080/"
        },
        "id": "l1bZ2HHzRpjn",
        "outputId": "6e6c0f44-4321-498c-9575-e05cdc8f9871"
      },
      "execution_count": 9,
      "outputs": [
        {
          "output_type": "stream",
          "name": "stdout",
          "text": [
            "3/4\n"
          ]
        }
      ]
    },
    {
      "cell_type": "code",
      "source": [
        "#10)Demonstrate operator overloading by creating a class Vector and overriding the add method to add two vectors.\n",
        "\n",
        "class Vector:\n",
        "    def __init__(self, x, y):\n",
        "        self.x = x\n",
        "        self.y = y\n",
        "\n",
        "    def __add__(self, other):\n",
        "        return Vector(self.x + other.x, self.y + other.y)\n",
        "\n",
        "    def __str__(self):\n",
        "        return f\"Vector({self.x}, {self.y})\"\n",
        "\n",
        "# Example usage\n",
        "v1 = Vector(2, 3)\n",
        "v2 = Vector(4, 5)\n",
        "v3 = v1 + v2\n",
        "\n",
        "print(v3)"
      ],
      "metadata": {
        "colab": {
          "base_uri": "https://localhost:8080/"
        },
        "id": "cqFwKZbJRsdZ",
        "outputId": "0d113119-e3c8-403e-9d76-4437d264d887"
      },
      "execution_count": 10,
      "outputs": [
        {
          "output_type": "stream",
          "name": "stdout",
          "text": [
            "Vector(6, 8)\n"
          ]
        }
      ]
    },
    {
      "cell_type": "code",
      "source": [
        "#11)Create a class Person with attributes name and age. Add a method greet() that prints \"Hello, my name is {name} and I am {age} years old.\"\n",
        "class Person:\n",
        "    def __init__(self, name, age):\n",
        "        self.name = name\n",
        "        self.age = age\n",
        "\n",
        "    def greet(self):\n",
        "        print(f\"Hello, my name is {self.name} and I am {self.age} years old.\")\n",
        "\n",
        "# Example usage\n",
        "p = Person(\"Sourav\", 32)\n",
        "p.greet()\n"
      ],
      "metadata": {
        "colab": {
          "base_uri": "https://localhost:8080/"
        },
        "id": "VNiZFC8GRvBz",
        "outputId": "5bcaf317-5ad5-4418-8394-9337b45835a4"
      },
      "execution_count": 12,
      "outputs": [
        {
          "output_type": "stream",
          "name": "stdout",
          "text": [
            "Hello, my name is Sourav and I am 32 years old.\n"
          ]
        }
      ]
    },
    {
      "cell_type": "code",
      "source": [
        "#12) Implement a class Student with attributes name and grades. Create a method average_grade() to compute the average of the grades.\n",
        "class Student:\n",
        "    def __init__(self, name, grades):\n",
        "        self.name = name\n",
        "        self.grades = grades  # List of grades\n",
        "\n",
        "    def average_grade(self):\n",
        "        if self.grades:\n",
        "            return sum(self.grades) / len(self.grades)\n",
        "        else:\n",
        "            return 0.0\n",
        "\n",
        "# Example usage\n",
        "s = Student(\"Ajay\", [85, 90, 78, 92])\n",
        "print(f\"{s.name}'s average grade is: {s.average_grade():.2f}\")\n"
      ],
      "metadata": {
        "colab": {
          "base_uri": "https://localhost:8080/"
        },
        "id": "CY71DMCGRxCY",
        "outputId": "be8a51db-4cfa-49d2-d0c8-956346495576"
      },
      "execution_count": 14,
      "outputs": [
        {
          "output_type": "stream",
          "name": "stdout",
          "text": [
            "Ajay's average grade is: 86.25\n"
          ]
        }
      ]
    },
    {
      "cell_type": "code",
      "source": [
        "#13)Create a class Rectangle with methods set_dimensions() to set the dimensions and area() to calculate the area.\n",
        "class Rectangle:\n",
        "    def __init__(self):\n",
        "        self.length = 0\n",
        "        self.width = 0\n",
        "\n",
        "    def set_dimensions(self, length, width):\n",
        "        self.length = length\n",
        "        self.width = width\n",
        "\n",
        "    def area(self):\n",
        "        return self.length * self.width\n",
        "\n",
        "# Example usage\n",
        "rect = Rectangle()\n",
        "rect.set_dimensions(5, 3)\n",
        "print(\"Area of rectangle:\", rect.area())\n"
      ],
      "metadata": {
        "colab": {
          "base_uri": "https://localhost:8080/"
        },
        "id": "iwc5PfaGSH2d",
        "outputId": "46f8fb7e-c36b-4deb-90c4-653c9c11a5cd"
      },
      "execution_count": 15,
      "outputs": [
        {
          "output_type": "stream",
          "name": "stdout",
          "text": [
            "Area of rectangle: 15\n"
          ]
        }
      ]
    },
    {
      "cell_type": "code",
      "source": [
        "#14)Create a class Employee with a method calculate_salary() that computes the salary based on hours worked and hourly rate. Create a derived class Manager that adds a bonus to the salary.\n",
        "# Base class\n",
        "class Employee:\n",
        "    def __init__(self, hours_worked, hourly_rate):\n",
        "        self.hours_worked = hours_worked\n",
        "        self.hourly_rate = hourly_rate\n",
        "\n",
        "    def calculate_salary(self):\n",
        "        return self.hours_worked * self.hourly_rate\n",
        "\n",
        "# Derived class\n",
        "class Manager(Employee):\n",
        "    def __init__(self, hours_worked, hourly_rate, bonus):\n",
        "        super().__init__(hours_worked, hourly_rate)\n",
        "        self.bonus = bonus\n",
        "\n",
        "    def calculate_salary(self):\n",
        "        base_salary = super().calculate_salary()\n",
        "        return base_salary + self.bonus\n",
        "\n",
        "# Example usage\n",
        "emp = Employee(40, 20)\n",
        "print(\"Employee Salary:\", emp.calculate_salary())\n",
        "\n",
        "mgr = Manager(40, 30, 500)\n",
        "print(\"Manager Salary:\", mgr.calculate_salary())\n"
      ],
      "metadata": {
        "colab": {
          "base_uri": "https://localhost:8080/"
        },
        "id": "CaaSqFnMSaea",
        "outputId": "bca8fe8d-9c02-4256-9a9f-0b06763d782c"
      },
      "execution_count": 16,
      "outputs": [
        {
          "output_type": "stream",
          "name": "stdout",
          "text": [
            "Employee Salary: 800\n",
            "Manager Salary: 1700\n"
          ]
        }
      ]
    },
    {
      "cell_type": "code",
      "source": [
        "#15) Create a class Product with attributes name, price, and quantity. Implement a method total_price() that calculates the total price of the product.\n",
        "class Product:\n",
        "    def __init__(self, name, price, quantity):\n",
        "        self.name = name\n",
        "        self.price = price\n",
        "        self.quantity = quantity\n",
        "\n",
        "    def total_price(self):\n",
        "        return self.price * self.quantity\n",
        "\n",
        "# Example usage\n",
        "item = Product(\"Laptop\", 50000, 2)\n",
        "print(f\"Total price for {item.name}: Rs. {item.total_price()}\")"
      ],
      "metadata": {
        "colab": {
          "base_uri": "https://localhost:8080/"
        },
        "id": "sOu3UcN1Sdcv",
        "outputId": "32fc1618-18f5-48fe-8081-0b094705f0ff"
      },
      "execution_count": 17,
      "outputs": [
        {
          "output_type": "stream",
          "name": "stdout",
          "text": [
            "Total price for Laptop: Rs. 100000\n"
          ]
        }
      ]
    },
    {
      "cell_type": "code",
      "source": [
        "#16)Create a class Animal with an abstract method sound(). Create two derived classes Cow and Sheep that implement the sound() method.\n",
        "from abc import ABC, abstractmethod\n",
        "\n",
        "# Abstract base class\n",
        "class Animal(ABC):\n",
        "    @abstractmethod\n",
        "    def sound(self):\n",
        "        pass\n",
        "\n",
        "# Derived class: Cow\n",
        "class Cow(Animal):\n",
        "    def sound(self):\n",
        "        print(\"Cow says Moo\")\n",
        "\n",
        "# Derived class: Sheep\n",
        "class Sheep(Animal):\n",
        "    def sound(self):\n",
        "        print(\"Sheep says Baa\")\n",
        "\n",
        "# Example usage\n",
        "cow = Cow()\n",
        "sheep = Sheep()\n",
        "\n",
        "cow.sound()\n",
        "sheep.sound()"
      ],
      "metadata": {
        "colab": {
          "base_uri": "https://localhost:8080/"
        },
        "id": "vb7v4w5uSf0e",
        "outputId": "8d11c7a8-637a-44bc-dd4e-5df6c77111b7"
      },
      "execution_count": 18,
      "outputs": [
        {
          "output_type": "stream",
          "name": "stdout",
          "text": [
            "Cow says Moo\n",
            "Sheep says Baa\n"
          ]
        }
      ]
    },
    {
      "cell_type": "code",
      "source": [
        "#17)Create a class Book with attributes title, author, and year_published. Add a method get_book_info() that returns a formatted string with the book's details.\n",
        "class Book:\n",
        "    def __init__(self, title, author, year_published):\n",
        "        self.title = title\n",
        "        self.author = author\n",
        "        self.year_published = year_published\n",
        "\n",
        "    def get_book_info(self):\n",
        "        return f\"'{self.title}' by {self.author}, published in {self.year_published}\"\n",
        "\n",
        "# Example usage\n",
        "book = Book(\"A monk who changed Uttar Pradesh\", \"Shantanu Gupta\", 2022)\n",
        "print(book.get_book_info())\n"
      ],
      "metadata": {
        "colab": {
          "base_uri": "https://localhost:8080/"
        },
        "id": "IJvHbZRoSizy",
        "outputId": "2bb70f7a-d836-428f-efe5-df03670753e4"
      },
      "execution_count": 19,
      "outputs": [
        {
          "output_type": "stream",
          "name": "stdout",
          "text": [
            "'A monk who changed Uttar Pradesh' by Shantanu Gupta, published in 2022\n"
          ]
        }
      ]
    },
    {
      "cell_type": "code",
      "source": [
        "#18) Create a class House with attributes address and price. Create a derived class Mansion that adds an attribute number_of_rooms.\n",
        "# Base class\n",
        "class House:\n",
        "    def __init__(self, address, price):\n",
        "        self.address = address\n",
        "        self.price = price\n",
        "\n",
        "# Derived class\n",
        "class Mansion(House):\n",
        "    def __init__(self, address, price, number_of_rooms):\n",
        "        super().__init__(address, price)\n",
        "        self.number_of_rooms = number_of_rooms\n",
        "\n",
        "# Example usage\n",
        "m = Mansion(\"123 Pearl Harbour Lane, Bihar\", 50000000, 10)\n",
        "print(f\"Address: {m.address}, Price: Rs. {m.price}, Rooms: {m.number_of_rooms}\")\n"
      ],
      "metadata": {
        "colab": {
          "base_uri": "https://localhost:8080/"
        },
        "id": "vdCc-3yCSmGE",
        "outputId": "b263d6e7-e4af-4e69-be6a-97414c99c7d5"
      },
      "execution_count": 20,
      "outputs": [
        {
          "output_type": "stream",
          "name": "stdout",
          "text": [
            "Address: 123 Pearl Harbour Lane, Bihar, Price: Rs. 50000000, Rooms: 10\n"
          ]
        }
      ]
    },
    {
      "cell_type": "code",
      "source": [],
      "metadata": {
        "id": "72SladSKSsMs"
      },
      "execution_count": null,
      "outputs": []
    }
  ]
}